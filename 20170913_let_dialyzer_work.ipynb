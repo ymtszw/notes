{
 "cells": [
  {
   "cell_type": "markdown",
   "metadata": {
    "slideshow": {
     "slide_type": "slide"
    }
   },
   "source": [
    "# Let Dialyzer Work\n",
    "\n",
    "ymtszw/notes"
   ]
  },
  {
   "cell_type": "markdown",
   "metadata": {
    "slideshow": {
     "slide_type": "slide"
    }
   },
   "source": [
    "# Preface 1\n",
    "\n",
    "- このドキュメントは試験的に[Jupyter notebook](http://jupyter.org/)で書いている。\n",
    "- Elixirコードを実行するには[iElixir kernel](https://github.com/pprzetacznik/IElixir)をインストールする必要がある。\n",
    "    - これを書いている時点ではElixir1.5以降に未対応だが、特にコンパイルできないということもない。\n",
    "    - 単にmix.exsの`:elixir`バージョン指定を`~> 1.4`等に緩めてインストールすればElixir 1.5系でも動作する。"
   ]
  },
  {
   "cell_type": "markdown",
   "metadata": {
    "slideshow": {
     "slide_type": "subslide"
    }
   },
   "source": [
    "- きっとLive Presentationするための拡張がなにがしかあるだろうと探したところ、[damianavila/RISE](https://github.com/damianavila/RISE)というのがやっぱりあったので使っている。\n",
    "- Notebookファイルからslide形式に出力するだけなら、その機能自体はデフォルトの`jupyter-nbconvert`が最初から持っている。\n",
    "    - `jupyter-nbconvert <file>.ipynb --to slides`\n",
    "    - reveal.jsに対応したHTMLを吐くので、関連するアセットを自前でサーブしている環境があるなら、置けば動きそう。\n",
    "    - 自分は用意していなかったのでRISEに頼る。"
   ]
  },
  {
   "cell_type": "markdown",
   "metadata": {
    "slideshow": {
     "slide_type": "subslide"
    }
   },
   "source": [
    "- ただし、RISEはまだまだ開発途上で、環境としては癖が強いので我慢が必要。\n",
    "- 特に、Jupyter notebookのデフォルトのキーバインドとreveal.jsのキーバインドとで競合するので、慣れたreveal.jsのキーバインドがまともに動かない。\n",
    "    - 横方向は←→でいけるが、縦方向はPgUp/PgDnが必要なのでMacBookだとfnキーを使う必要がある。\n",
    "- とはいえそこそこ使える。プレゼン表示したままcellを編集できるので、なんちゃってWYSIWYG編集もできるし、code cellの実行ももちろん可能。\n",
    "- 文字サイズとかはブラウザで調整してごまかす。"
   ]
  },
  {
   "cell_type": "markdown",
   "metadata": {
    "slideshow": {
     "slide_type": "slide"
    }
   },
   "source": [
    "# Preface 2\n",
    "\n",
    "- jupyter notebookのkernelは基本的には各言語の対話環境に相当する。\n",
    "    - Elixirでは`iex`相当になる。"
   ]
  },
  {
   "cell_type": "code",
   "execution_count": 2,
   "metadata": {},
   "outputs": [
    {
     "data": {
      "text/plain": [
       "'20'"
      ]
     },
     "execution_count": 2,
     "metadata": {},
     "output_type": "execute_result"
    }
   ],
   "source": [
    ":erlang.system_info(:otp_release)"
   ]
  },
  {
   "cell_type": "code",
   "execution_count": 4,
   "metadata": {},
   "outputs": [
    {
     "data": {
      "text/plain": [
       "'1.5.1'"
      ]
     },
     "execution_count": 4,
     "metadata": {},
     "output_type": "execute_result"
    }
   ],
   "source": [
    "Application.spec(:elixir)[:vsn]"
   ]
  },
  {
   "cell_type": "markdown",
   "metadata": {
    "slideshow": {
     "slide_type": "skip"
    }
   },
   "source": [
    "- `iex`の中でも複数行コード実行や`defmodule`を使ったmodule生成等ができることは試せば明らかだが、iElixir経由でもできることを確認しておく。\n",
    "    - 後に説明で使う。\n",
    "    - `import Kernel`はされているが、コード補完は何かmoduleが前置されていないと動かないようにみえる。"
   ]
  },
  {
   "cell_type": "code",
   "execution_count": 14,
   "metadata": {
    "slideshow": {
     "slide_type": "skip"
    }
   },
   "outputs": [
    {
     "data": {
      "text/plain": [
       "\"hello worlddlrow olleh\""
      ]
     },
     "execution_count": 14,
     "metadata": {},
     "output_type": "execute_result"
    }
   ],
   "source": [
    "defmodule ModuleDefinedFromJupyter do\n",
    "  def echo(term) do\n",
    "    term\n",
    "  end\n",
    "      \n",
    "  def recho(term) when is_binary(term) do\n",
    "    String.reverse(term)\n",
    "  end                   \n",
    "end\n",
    "alias ModuleDefinedFromJupyter, as: M\n",
    "M.echo(\"hello world\") <> M.recho(\"hello world\")"
   ]
  },
  {
   "cell_type": "markdown",
   "metadata": {
    "slideshow": {
     "slide_type": "slide"
    }
   },
   "source": [
    "## Preface 3\n",
    "\n",
    "- [dialyzer](http://erlang.org/doc/man/dialyzer.html)の話をしたい。\n",
    "- いろいろ試したけどiElixir(iex)経由でdialyzerまで実行させながらというのは無理があるのでやめた。\n",
    "- mix projectを用意して、その中のコードに対してdialyzerを別で実行して結果を貼り付けながら説く。\n",
    "    - Elixir codeの部分についてはcode cellに書かれているものは実行可能。"
   ]
  },
  {
   "cell_type": "markdown",
   "metadata": {
    "collapsed": true,
    "slideshow": {
     "slide_type": "subslide"
    }
   },
   "source": [
    "- Shellで`mix new`して適当にプロジェクトを作り、mix.exsを編集して以下のdepsを加える。\n",
    "    - `{:dialyze, \"0.2.1\", [only: :dev]}`\n",
    "- 今は[jeremyjh/dialyxir](https://github.com/jeremyjh/dialyxir)の方が使われていると思うが、諸事情でこのドキュメントではディスコンしている[fishcakez/dialyze](https://github.com/fishcakez/dialyze)の方を使う。本質的な違いはない。\n",
    "    - Task実行は`mix dialyze`\n",
    "    - Dialyxirなら`mix dialyxir`"
   ]
  },
  {
   "cell_type": "markdown",
   "metadata": {
    "slideshow": {
     "slide_type": "subslide"
    }
   },
   "source": [
    "- Dialyzeするところまでやってみると以下のようになるはず。\n",
    "- 以下のCode cellは[BashKernel](https://github.com/takluyver/bash_kernel)に切り替えれば実行できなくもないが、今する必要はない。"
   ]
  },
  {
   "cell_type": "code",
   "execution_count": 5,
   "metadata": {},
   "outputs": [
    {
     "name": "stdout",
     "output_type": "stream",
     "text": [
      "/Users/yumatsuzawa/workspace/notes/20170913_let_dialyzer_work/dial\n"
     ]
    }
   ],
   "source": [
    "# Bash\n",
    "pwd"
   ]
  },
  {
   "cell_type": "code",
   "execution_count": 7,
   "metadata": {},
   "outputs": [
    {
     "name": "stdout",
     "output_type": "stream",
     "text": [
      "Resolving Hex dependencies...\n",
      "Dependency resolution completed:\n",
      "\u001b[32m  dialyze 0.2.1\u001b[0m\n",
      "* Getting dialyze (Hex package)\n",
      "  Checking package (https://repo.hex.pm/tarballs/dialyze-0.2.1.tar)\n",
      "  Using locally cached package\n"
     ]
    }
   ],
   "source": [
    "# Bash\n",
    "mix deps.get"
   ]
  },
  {
   "cell_type": "code",
   "execution_count": 9,
   "metadata": {
    "slideshow": {
     "slide_type": "subslide"
    }
   },
   "outputs": [
    {
     "name": "stdout",
     "output_type": "stream",
     "text": [
      "Finding applications for analysis\n",
      "Finding suitable PLTs\n",
      "Looking up modules in dialyze_erlang-20.0_elixir-1.5.1_deps-dev.plt\n",
      "Finding applications for dialyze_erlang-20.0_elixir-1.5.1_deps-dev.plt\n",
      "Finding modules for dialyze_erlang-20.0_elixir-1.5.1_deps-dev.plt\n",
      "Checking 399 modules in dialyze_erlang-20.0_elixir-1.5.1_deps-dev.plt\n",
      "Finding modules for analysis\n",
      "Analysing 1 modules with dialyze_erlang-20.0_elixir-1.5.1_deps-dev.plt\n"
     ]
    }
   ],
   "source": [
    "# Bash\n",
    "# 初回実行時はかなり時間がかかるはず。あと、1.5系ではWarningが出るが気にしない。\n",
    "mix dialyze"
   ]
  }
 ],
 "metadata": {
  "celltoolbar": "Slideshow",
  "kernelspec": {
   "display_name": "Bash",
   "language": "bash",
   "name": "bash"
  },
  "language_info": {
   "codemirror_mode": "shell",
   "file_extension": ".sh",
   "mimetype": "text/x-sh",
   "name": "bash"
  }
 },
 "nbformat": 4,
 "nbformat_minor": 2
}
