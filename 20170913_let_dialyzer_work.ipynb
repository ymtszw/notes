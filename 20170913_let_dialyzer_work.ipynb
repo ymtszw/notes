{
 "cells": [
  {
   "cell_type": "markdown",
   "metadata": {
    "slideshow": {
     "slide_type": "slide"
    }
   },
   "source": [
    "# Let Dialyzer Work (For Ease Of Our Mind)\n",
    "\n",
    "[ymtszw/notes](https://github.com/ymtszw/notes/blob/master/20170913_let_dialyzer_work.ipynb)"
   ]
  },
  {
   "cell_type": "markdown",
   "metadata": {
    "slideshow": {
     "slide_type": "slide"
    }
   },
   "source": [
    "## Preface 1\n",
    "\n",
    "- このドキュメントは試験的に[Jupyter notebook](http://jupyter.org/)で書いている。\n",
    "- Elixirコードを実行するには[iElixir kernel](https://github.com/pprzetacznik/IElixir)をインストールする必要がある。\n",
    "    - これを書いている時点ではElixir1.5以降に未対応だが、特にコンパイルできないということもない。\n",
    "    - 単にmix.exsの`:elixir`バージョン指定を`~> 1.4`等に緩めてインストールすればElixir 1.5系でも動作する。"
   ]
  },
  {
   "cell_type": "markdown",
   "metadata": {
    "slideshow": {
     "slide_type": "subslide"
    }
   },
   "source": [
    "- きっとLive Presentationするための拡張がなにがしかあるだろうと探したところ、[damianavila/RISE](https://github.com/damianavila/RISE)というのがやっぱりあったので使っている。\n",
    "- Notebookファイルからslide形式に出力するだけなら、その機能自体はデフォルトの`jupyter-nbconvert`が最初から持っている。\n",
    "    - `jupyter-nbconvert <file>.ipynb --to slides`\n",
    "    - reveal.jsに対応したHTMLを吐くので、関連するアセットを自前でサーブしている環境があるなら、置けば動きそう。\n",
    "    - 自分は用意していなかったのでRISEに頼る。"
   ]
  },
  {
   "cell_type": "markdown",
   "metadata": {
    "slideshow": {
     "slide_type": "subslide"
    }
   },
   "source": [
    "- ただし、RISEはまだまだ開発途上で、環境としては癖が強いので我慢が必要。\n",
    "- 特に、Jupyter notebookのデフォルトのキーバインドとreveal.jsのキーバインドとで競合するので、慣れたreveal.jsのキーバインドがまともに動かない。\n",
    "    - 横方向は←→でいけるが、縦方向はPgUp/PgDnが必要なのでMacBookだとfnキーを使う必要がある。\n",
    "- とはいえそこそこ使える。プレゼン表示したままcellを編集できるので、なんちゃってWYSIWYG編集もできるし、code cellの実行ももちろん可能。\n",
    "- 文字サイズとかはブラウザで調整してごまかす。"
   ]
  },
  {
   "cell_type": "markdown",
   "metadata": {
    "slideshow": {
     "slide_type": "slide"
    }
   },
   "source": [
    "## Preface 2\n",
    "\n",
    "- Jupyter notebookのkernelは基本的には各言語の対話環境に相当する。\n",
    "    - Elixirでは`iex`相当になる。"
   ]
  },
  {
   "cell_type": "code",
   "execution_count": 2,
   "metadata": {},
   "outputs": [
    {
     "data": {
      "text/plain": [
       "'20'"
      ]
     },
     "execution_count": 2,
     "metadata": {},
     "output_type": "execute_result"
    }
   ],
   "source": [
    ":erlang.system_info(:otp_release)"
   ]
  },
  {
   "cell_type": "code",
   "execution_count": 4,
   "metadata": {},
   "outputs": [
    {
     "data": {
      "text/plain": [
       "'1.5.1'"
      ]
     },
     "execution_count": 4,
     "metadata": {},
     "output_type": "execute_result"
    }
   ],
   "source": [
    "Application.spec(:elixir)[:vsn]"
   ]
  },
  {
   "cell_type": "markdown",
   "metadata": {
    "slideshow": {
     "slide_type": "skip"
    }
   },
   "source": [
    "- `iex`の中でも複数行コード実行や`defmodule`を使ったmodule生成等ができることは試せば明らかだが、iElixir経由でもできることを確認しておく。\n",
    "    - 後に説明で使う。\n",
    "    - `import Kernel`はされているが、コード補完は何かmoduleが前置されていないと動かないようにみえる。"
   ]
  },
  {
   "cell_type": "code",
   "execution_count": 14,
   "metadata": {
    "slideshow": {
     "slide_type": "skip"
    }
   },
   "outputs": [
    {
     "data": {
      "text/plain": [
       "\"hello worlddlrow olleh\""
      ]
     },
     "execution_count": 14,
     "metadata": {},
     "output_type": "execute_result"
    }
   ],
   "source": [
    "defmodule ModuleDefinedFromJupyter do\n",
    "  def echo(term) do\n",
    "    term\n",
    "  end\n",
    "      \n",
    "  def recho(term) when is_binary(term) do\n",
    "    String.reverse(term)\n",
    "  end                   \n",
    "end\n",
    "alias ModuleDefinedFromJupyter, as: M\n",
    "M.echo(\"hello world\") <> M.recho(\"hello world\")"
   ]
  },
  {
   "cell_type": "markdown",
   "metadata": {
    "slideshow": {
     "slide_type": "slide"
    }
   },
   "source": [
    "## Preface 3\n",
    "\n",
    "- このドキュメントではErlang/Elixirの話をするが、Erlang/Elixirについてのベーシックな説明は省く。\n",
    "- [dialyzer](http://erlang.org/doc/man/dialyzer.html)に託けて、Elixirでのコーディングについてふわっとした話をしたい。\n",
    "- いろいろ試したけどiElixir(iex)経由でdialyzerまで実行させながらというのは無理があるのでやめた。\n",
    "- mix projectを用意して、その中のコードに対してdialyzerを別で実行して結果を貼り付けながら説く。\n",
    "    - Elixir codeの部分についてはcode cellに書かれているものは実行可能。"
   ]
  },
  {
   "cell_type": "markdown",
   "metadata": {
    "collapsed": true,
    "slideshow": {
     "slide_type": "subslide"
    }
   },
   "source": [
    "- Shellで`mix new`して適当にプロジェクトを作り、mix.exsを編集して以下のdepsを加える。\n",
    "    - `{:dialyze, \"0.2.1\", [only: :dev]}`\n",
    "- 今は[jeremyjh/dialyxir](https://github.com/jeremyjh/dialyxir)の方が使われていると思うが、諸事情でこのドキュメントではディスコンしている[fishcakez/dialyze](https://github.com/fishcakez/dialyze)の方を使う。本質的な違いはない。\n",
    "    - Task実行は`mix dialyze`\n",
    "    - Dialyxirなら`mix dialyxir`\n",
    "    - `dialyzer` CLIを直接使ってもいいのだが、これらのMix taskはErlang/Elixirの標準モジュールやdepsに含まれるモジュールのPLT（後述）生成等のコマンドを含むので、楽。"
   ]
  },
  {
   "cell_type": "markdown",
   "metadata": {
    "slideshow": {
     "slide_type": "subslide"
    }
   },
   "source": [
    "- Dialyzeするところまでやってみると以下のようになるはず。\n",
    "- 以下のCode cellは[BashKernel](https://github.com/takluyver/bash_kernel)に切り替えれば実行できるが、今する必要はない。"
   ]
  },
  {
   "cell_type": "code",
   "execution_count": 5,
   "metadata": {},
   "outputs": [
    {
     "name": "stdout",
     "output_type": "stream",
     "text": [
      "/Users/yumatsuzawa/workspace/notes/20170913_let_dialyzer_work/dial\n"
     ]
    }
   ],
   "source": [
    "# Bash\n",
    "pwd"
   ]
  },
  {
   "cell_type": "code",
   "execution_count": 7,
   "metadata": {},
   "outputs": [
    {
     "name": "stdout",
     "output_type": "stream",
     "text": [
      "Resolving Hex dependencies...\n",
      "Dependency resolution completed:\n",
      "\u001b[32m  dialyze 0.2.1\u001b[0m\n",
      "* Getting dialyze (Hex package)\n",
      "  Checking package (https://repo.hex.pm/tarballs/dialyze-0.2.1.tar)\n",
      "  Using locally cached package\n"
     ]
    }
   ],
   "source": [
    "# Bash\n",
    "mix deps.get"
   ]
  },
  {
   "cell_type": "code",
   "execution_count": 10,
   "metadata": {
    "slideshow": {
     "slide_type": "subslide"
    }
   },
   "outputs": [
    {
     "name": "stdout",
     "output_type": "stream",
     "text": [
      "Finding applications for analysis\n",
      "Finding suitable PLTs\n",
      "Looking up modules in dialyze_erlang-20.0_elixir-1.5.1_deps-dev.plt\n",
      "Finding applications for dialyze_erlang-20.0_elixir-1.5.1_deps-dev.plt\n",
      "Finding modules for dialyze_erlang-20.0_elixir-1.5.1_deps-dev.plt\n",
      "Checking 399 modules in dialyze_erlang-20.0_elixir-1.5.1_deps-dev.plt\n",
      "Finding modules for analysis\n",
      "Analysing 1 modules with dialyze_erlang-20.0_elixir-1.5.1_deps-dev.plt\n"
     ]
    }
   ],
   "source": [
    "# Bash\n",
    "# 初回実行時はかなり時間がかかるはず。あと、1.5系ではWarningが出るが気にしない。\n",
    "mix dialyze"
   ]
  },
  {
   "cell_type": "markdown",
   "metadata": {
    "slideshow": {
     "slide_type": "subslide"
    }
   },
   "source": [
    "- 最後の行が今回のmix projectのmoduleに対するDialyzer実行結果になる\n",
    "    - 1 module解析し、特に何も問題なかったということ。\n",
    "- `mix new`したてのElixir applicationには、\"application_name.ex\"というファイルの中に`ApplicationName`というmoduleがあるだけなので、正しい結果である。サンプルコードの場合は`Dial`がある。一応現状の中身を書いておく。\n",
    "    - 多分`@moduledoc`が生成されていると思うが、省略。"
   ]
  },
  {
   "cell_type": "code",
   "execution_count": null,
   "metadata": {
    "scrolled": true
   },
   "outputs": [],
   "source": [
    "defmodule Dial do\n",
    "  def hello do\n",
    "    :world\n",
    "  end\n",
    "end"
   ]
  },
  {
   "cell_type": "markdown",
   "metadata": {
    "slideshow": {
     "slide_type": "slide"
    }
   },
   "source": [
    "## Let Dialyzer Work\n",
    "\n",
    "- ようやく本題。\n",
    "- dialyzerはErlang同梱の静的解析ツール。\n",
    "- 解析に利用するためのapplicationやmoduleに関する情報をまとめたPersistant Lookup Table (PLT) ファイルを生成したのち、\"success typing\"という不思議な魔法でコードを解析する。"
   ]
  },
  {
   "cell_type": "markdown",
   "metadata": {
    "slideshow": {
     "slide_type": "subslide"
    }
   },
   "source": [
    "## Success typing\n",
    "\n",
    "- [Learn You Some Erlang](http://learnyousomeerlang.com/dialyzer)によれば、\n",
    "> As the [Success Typings paper](http://www.it.uu.se/research/group/hipe/papers/succ_types.pdf) behind Dialyzer explains it, a type checker for a language like Erlang should ... (snip) ... **only complain on type errors that would guarantee a crash.**\n",
    "- 「絶対におかしい、間違いなく型エラーでクラッシュするときだけ警告する」解析手法である。"
   ]
  },
  {
   "cell_type": "markdown",
   "metadata": {
    "slideshow": {
     "slide_type": "subslide"
    }
   },
   "source": [
    "## Let it complain\n",
    "\n",
    "- 試しに何か言わせてみる。\n",
    "- 大前提として、Erlangは静的型付け言語ではない。以下のようなモジュールはコンパイルできるが、当然実行時例外になる。"
   ]
  },
  {
   "cell_type": "code",
   "execution_count": 1,
   "metadata": {},
   "outputs": [
    {
     "ename": "ArithmeticError",
     "evalue": "1",
     "output_type": "error",
     "traceback": [
      "** %ArithmeticError{message: \"bad argument in arithmetic expression\"}"
     ]
    }
   ],
   "source": [
    "defmodule Dial do\n",
    "  def crash() do\n",
    "    1 + \"2\"\n",
    "  end\n",
    "end\n",
    "    \n",
    "Dial.crash()"
   ]
  },
  {
   "cell_type": "markdown",
   "metadata": {
    "slideshow": {
     "slide_type": "subslide"
    }
   },
   "source": [
    "- Dialyzerはこのようなあからさまなバグを持つコードを警告できるだろうか。"
   ]
  },
  {
   "cell_type": "code",
   "execution_count": 5,
   "metadata": {},
   "outputs": [
    {
     "name": "stdout",
     "output_type": "stream",
     "text": [
      "Finding applications for analysis\n",
      "Finding suitable PLTs\n",
      "Looking up modules in dialyze_erlang-20.0_elixir-1.5.1_deps-dev.plt\n",
      "Finding applications for dialyze_erlang-20.0_elixir-1.5.1_deps-dev.plt\n",
      "Finding modules for dialyze_erlang-20.0_elixir-1.5.1_deps-dev.plt\n",
      "Checking 399 modules in dialyze_erlang-20.0_elixir-1.5.1_deps-dev.plt\n",
      "Finding modules for analysis\n",
      "Analysing 1 modules with dialyze_erlang-20.0_elixir-1.5.1_deps-dev.plt\n",
      "\u001b[31m\u001b[1mlib/dial.ex:2: Function crash/0 has no local return\n",
      "\u001b[0m\n",
      "\u001b[31m\u001b[1mlib/dial.ex:3: The call erlang:'+'(1,<<_:8>>) will never return since it differs in the 2nd argument from the success typing arguments: (number(),number())\n",
      "\u001b[0m\n",
      "\u001b[31m\u001b[1m** (Mix) Dialyzer reported 2 warnings\u001b[0m\n"
     ]
    },
    {
     "ename": "",
     "evalue": "1",
     "output_type": "error",
     "traceback": []
    }
   ],
   "source": [
    "# Bash\n",
    "mix dialyze"
   ]
  },
  {
   "cell_type": "markdown",
   "metadata": {
    "slideshow": {
     "slide_type": "subslide"
    }
   },
   "source": [
    "- できた。\n",
    "    - ちなみにここまで単純なやつはそもそもcompile時点でwarningが出る。\n",
    "- [先程のLUSE記事](http://learnyousomeerlang.com/dialyzer)では、どのようなコードだと警告されて、どのようなコードは見逃されるか、順を追って説明している。\n",
    "- 読め！ で終わりといえば終わりなのだが、ここでは実際にDialyzerを使いながらコードを書いていての印象・実感ベースで、「いい感じのElixirコードを書くということはどういうことなのか」について最近思っていることを書きたい。"
   ]
  },
  {
   "cell_type": "markdown",
   "metadata": {
    "slideshow": {
     "slide_type": "slide"
    }
   },
   "source": [
    "## Conclusion\n",
    "\n",
    "- Typespecsを書く。そこから始めよう。\n",
    "- 型安全な言語でのプログラミングに一度触れてみるのオススメ。"
   ]
  },
  {
   "cell_type": "markdown",
   "metadata": {
    "slideshow": {
     "slide_type": "slide"
    }
   },
   "source": [
    "## Code Quality\n",
    "\n",
    "- コードの質についてはいろいろな評価軸があるので、おいそれと適当なことは言えない。\n",
    "- が、あえて幾つかあげてみる。\n",
    "    - そもそも\n",
    "        - 動く（クラッシュしない）\n",
    "        - 動いたり動かなかったりする（条件によってクラッシュする可能性がある）\n",
    "        - 動かない、、、のは問題外\n",
    "    - 改良や機能追加、バグ修正が\n",
    "        - 容易である（動いていたものが動かなくなりにくい、修正作業がし易い）\n",
    "        - 容易でない（取っ掛かりが掴みづらい、作用の影響が局所化されていない）\n",
    "    - レビュアーや初見者が\n",
    "        - 読みやすい\n",
    "        - 読みにくい"
   ]
  },
  {
   "cell_type": "markdown",
   "metadata": {
    "slideshow": {
     "slide_type": "subslide"
    }
   },
   "source": [
    "- クラッシュせずに動き、修正が容易で、読みやすいコードに携われることは幸福であるように思われる。\n",
    "- そのようないい感じのコードはElixirではどうすれば書けるだろうか。"
   ]
  },
  {
   "cell_type": "markdown",
   "metadata": {
    "slideshow": {
     "slide_type": "slide"
    }
   },
   "source": [
    "## Proposal: Let Dialyzer Work\n",
    "\n",
    "- ここでタイトルの提言をしたい。つまり「Dialyzerに仕事をさせよ」。\n",
    "\n",
    "- ただし注意：CIや手元環境で定期的にDialyzerを回す**だけ**では半分くらいしか意味がないと思っている。\n",
    "- 重要なのは\n",
    "    - 「Dialyzerは仕事ができないことがある」という前提を持っておくことと、\n",
    "    - 「Dialyzerが満足な仕事をできるようなコードを**書いて差し上げる**」という謙虚な姿勢である。"
   ]
  },
  {
   "cell_type": "markdown",
   "metadata": {
    "slideshow": {
     "slide_type": "subslide"
    }
   },
   "source": [
    "## Dialyzer May Not Work\n",
    "\n",
    "- [先程のLUSE記事](http://learnyousomeerlang.com/dialyzer)に書かれている通り、Erlangのような言語に対してできる型解析は限られている。\n",
    "- Dialyzerは基本的にはコードに問題はないものと前提を置きながら、徐々に条件を狭めていき、最終的に**絶対おかしいとわかったとき**以外は口を挟んでこない。"
   ]
  },
  {
   "cell_type": "markdown",
   "metadata": {
    "slideshow": {
     "slide_type": "subslide"
    }
   },
   "source": [
    "- 記事中のごく最初の方の例として、以下のコードがある。Elixirで書き換えて例として試してみる。\n",
    "    - そのままだと`fetch/0`の実装が不足しているので、`fetch/1`に変更したが、`fetch/1`が`1`以外を返した場合にクラッシュする状況は同じ。\n",
    "    - `main/1`から変数を取れるようになっているところがポイントで、Dialyzerの結果に影響する"
   ]
  },
  {
   "cell_type": "code",
   "execution_count": 1,
   "metadata": {},
   "outputs": [
    {
     "data": {
      "text/plain": [
       "{:atom, :some_atom}"
      ]
     },
     "execution_count": 1,
     "metadata": {},
     "output_type": "execute_result"
    }
   ],
   "source": [
    "defmodule Dial.Impl do\n",
    "  def main(term) do\n",
    "    x =\n",
    "      case fetch(term) do\n",
    "        1 -> :some_atom\n",
    "        2 -> 3.14\n",
    "      end\n",
    "    convert(x)\n",
    "  end\n",
    "\n",
    "  defp convert(x) when is_atom(x), do: {:atom, x}\n",
    "\n",
    "  defp fetch(term), do: term\n",
    "end\n",
    "\n",
    "Dial.Impl.main(1)"
   ]
  },
  {
   "cell_type": "code",
   "execution_count": 2,
   "metadata": {},
   "outputs": [
    {
     "ename": "FunctionClauseError",
     "evalue": "1",
     "output_type": "error",
     "traceback": [
      "** %FunctionClauseError{args: nil, arity: 1, clauses: nil, function: :convert, kind: nil, module: Dial.Impl}"
     ]
    }
   ],
   "source": [
    "Dial.Impl.main(2)"
   ]
  },
  {
   "cell_type": "markdown",
   "metadata": {
    "slideshow": {
     "slide_type": "subslide"
    }
   },
   "source": [
    "- ファイルに定義してDialyzeしてみると、"
   ]
  },
  {
   "cell_type": "code",
   "execution_count": 1,
   "metadata": {
    "scrolled": true
   },
   "outputs": [
    {
     "name": "stdout",
     "output_type": "stream",
     "text": [
      "Finding applications for analysis\n",
      "Compiling 1 file (.ex)\n",
      "Finding suitable PLTs\n",
      "Looking up modules in dialyze_erlang-20.0_elixir-1.5.1_deps-dev.plt\n",
      "Finding applications for dialyze_erlang-20.0_elixir-1.5.1_deps-dev.plt\n",
      "Finding modules for dialyze_erlang-20.0_elixir-1.5.1_deps-dev.plt\n",
      "Checking 399 modules in dialyze_erlang-20.0_elixir-1.5.1_deps-dev.plt\n",
      "Finding modules for analysis\n",
      "Analysing 2 modules with dialyze_erlang-20.0_elixir-1.5.1_deps-dev.plt\n"
     ]
    }
   ],
   "source": [
    "# Bash\n",
    "cd 20170913_let_dialyzer_work/dial\n",
    "mix dialyze"
   ]
  },
  {
   "cell_type": "markdown",
   "metadata": {
    "slideshow": {
     "slide_type": "subslide"
    }
   },
   "source": [
    "- （`Dial`と`Dial.Impl`で2モジュール）\n",
    "- 警告無しで通ってしまう。\n",
    "- 次に以下のように、`Dial`からクラッシュするはずの値で呼び出してみる。"
   ]
  },
  {
   "cell_type": "code",
   "execution_count": 2,
   "metadata": {},
   "outputs": [
    {
     "ename": "CaseClauseError",
     "evalue": "1",
     "output_type": "error",
     "traceback": [
      "** %CaseClauseError{term: :init_value}"
     ]
    }
   ],
   "source": [
    "defmodule Dial do\n",
    "  def run() do\n",
    "    Dial.Impl.main(:init_value)\n",
    "  end\n",
    "end\n",
    "\n",
    "Dial.run()"
   ]
  },
  {
   "cell_type": "markdown",
   "metadata": {
    "slideshow": {
     "slide_type": "subslide"
    }
   },
   "source": [
    "- この状態で再度Dialyzeしてみる。"
   ]
  },
  {
   "cell_type": "code",
   "execution_count": 1,
   "metadata": {},
   "outputs": [
    {
     "name": "stdout",
     "output_type": "stream",
     "text": [
      "Finding applications for analysis\n",
      "Compiling 1 file (.ex)\n",
      "Finding suitable PLTs\n",
      "Looking up modules in dialyze_erlang-20.0_elixir-1.5.1_deps-dev.plt\n",
      "Finding applications for dialyze_erlang-20.0_elixir-1.5.1_deps-dev.plt\n",
      "Finding modules for dialyze_erlang-20.0_elixir-1.5.1_deps-dev.plt\n",
      "Checking 399 modules in dialyze_erlang-20.0_elixir-1.5.1_deps-dev.plt\n",
      "Finding modules for analysis\n",
      "Analysing 2 modules with dialyze_erlang-20.0_elixir-1.5.1_deps-dev.plt\n"
     ]
    }
   ],
   "source": [
    "# Bash\n",
    "cd 20170913_let_dialyzer_work/dial\n",
    "mix dialyze"
   ]
  },
  {
   "cell_type": "markdown",
   "metadata": {
    "slideshow": {
     "slide_type": "subslide"
    }
   },
   "source": [
    "- やっぱり通る。\n",
    "- この場合、Dialyzerに何を警告して頂けたら嬉しいだろうか。\n",
    "    - `convert/1`に`atom`以外が渡ってきたら`FunctionClauseError`になること？\n",
    "    - `fetch/1`が`1`と`2`以外を返すかもしれないこと（`CaseClauseError`になりうること）？\n",
    "        - 原文の`fetch/0`でもこれは同じ。\n",
    "- しかしDialyzerは「絶対におかしい、必ずクラッシュする」ところまで推論に成功しない限りは何も言わないため、これらは一見するより難しい。\n",
    "- ロジックはそのままで、Dialyzerに導いてもらうコツはないか。"
   ]
  },
  {
   "cell_type": "markdown",
   "metadata": {
    "slideshow": {
     "slide_type": "slide"
    }
   },
   "source": [
    "## Typespecs\n",
    "\n",
    "- そこで、「この関数は一応、こういう値を受け取ってこういう値を返すことを想定してるんでごぜえますが・・・」、と恐れ多くも意見することができるアノテーション機能が用意されている\n",
    "- それがType Specifications (Typespecs)。\n",
    "- Typespeces自体はロジックには影響を与えない。\n",
    "- 試しに以下のように書いてみる。"
   ]
  },
  {
   "cell_type": "code",
   "execution_count": 1,
   "metadata": {
    "slideshow": {
     "slide_type": "subslide"
    }
   },
   "outputs": [
    {
     "data": {
      "text/plain": [
       "{:atom, :some_atom}"
      ]
     },
     "execution_count": 1,
     "metadata": {},
     "output_type": "execute_result"
    }
   ],
   "source": [
    "defmodule Dial.Impl do\n",
    "  @spec main(integer) :: {:atom, atom | float}\n",
    "  def main(term) do\n",
    "    x =\n",
    "      case fetch(term) do\n",
    "        1 -> :some_atom\n",
    "        2 -> 3.14\n",
    "      end\n",
    "    convert(x)\n",
    "  end\n",
    "\n",
    "  defp convert(x) when is_atom(x), do: {:atom, x}\n",
    "\n",
    "  defp fetch(term), do: term\n",
    "end\n",
    "\n",
    "Dial.Impl.main(1)"
   ]
  },
  {
   "cell_type": "markdown",
   "metadata": {
    "slideshow": {
     "slide_type": "subslide"
    }
   },
   "source": [
    "- `main/1`が今のところ正しく処理できるのは`integer`だけであると表明してみた。\n",
    "- Elixirでデフォルト使用可能なtypeは[ここ](https://hexdocs.pm/elixir/typespecs.html)にまとまっている\n",
    "- 相変わらず`1`なら問題ないが、その他の値ならクラッシュする。何も成長していない。\n",
    "- このコードをdialyzeしてもらうと。。。"
   ]
  },
  {
   "cell_type": "code",
   "execution_count": 2,
   "metadata": {
    "slideshow": {
     "slide_type": "subslide"
    }
   },
   "outputs": [
    {
     "name": "stdout",
     "output_type": "stream",
     "text": [
      "Finding applications for analysis\n",
      "Compiling 1 file (.ex)\n",
      "Finding suitable PLTs\n",
      "Looking up modules in dialyze_erlang-20.0_elixir-1.5.1_deps-dev.plt\n",
      "Finding applications for dialyze_erlang-20.0_elixir-1.5.1_deps-dev.plt\n",
      "Finding modules for dialyze_erlang-20.0_elixir-1.5.1_deps-dev.plt\n",
      "Checking 399 modules in dialyze_erlang-20.0_elixir-1.5.1_deps-dev.plt\n",
      "Finding modules for analysis\n",
      "Analysing 2 modules with dialyze_erlang-20.0_elixir-1.5.1_deps-dev.plt\n",
      "\u001b[31m\u001b[1mlib/dial.ex:2: Function run/0 has no local return\n",
      "\u001b[0m\n",
      "\u001b[31m\u001b[1mlib/dial.ex:3: The call 'Elixir.Dial.Impl':main('init_value') breaks the contract (integer()) -> {'atom',atom() | float()}\n",
      "\u001b[0m\n",
      "\u001b[31m\u001b[1m** (Mix) Dialyzer reported 2 warnings\u001b[0m\n"
     ]
    },
    {
     "ename": "",
     "evalue": "1",
     "output_type": "error",
     "traceback": []
    }
   ],
   "source": [
    "# Bash\n",
    "cd 20170913_let_dialyzer_work/dial\n",
    "mix dialyze"
   ]
  },
  {
   "cell_type": "markdown",
   "metadata": {},
   "source": [
    "- 無事（？）怒ってもらえた。\n",
    "- \"Breaking of type contract\"はtypespecsを導入することで検出できる（**ことがある**）違反の一つ。\n",
    "    - この場合、`:init_value`というatomは`Dial.Impl.main/1`が表明しているtypespecesとマッチしないので、「契約違反」だというのである。"
   ]
  },
  {
   "cell_type": "markdown",
   "metadata": {
    "slideshow": {
     "slide_type": "subslide"
    }
   },
   "source": [
    "- では`integer`だがクラッシュする値だとどうだろうか。"
   ]
  },
  {
   "cell_type": "code",
   "execution_count": 2,
   "metadata": {},
   "outputs": [
    {
     "ename": "FunctionClauseError",
     "evalue": "1",
     "output_type": "error",
     "traceback": [
      "** %FunctionClauseError{args: nil, arity: 1, clauses: nil, function: :convert, kind: nil, module: Dial.Impl}"
     ]
    }
   ],
   "source": [
    "defmodule Dial do\n",
    "  def run() do\n",
    "    Dial.Impl.main(2)\n",
    "  end\n",
    "end\n",
    "    \n",
    "Dial.run()"
   ]
  },
  {
   "cell_type": "code",
   "execution_count": 1,
   "metadata": {
    "slideshow": {
     "slide_type": "subslide"
    }
   },
   "outputs": [
    {
     "name": "stdout",
     "output_type": "stream",
     "text": [
      "Finding applications for analysis\n",
      "Compiling 1 file (.ex)\n",
      "Finding suitable PLTs\n",
      "Looking up modules in dialyze_erlang-20.0_elixir-1.5.1_deps-dev.plt\n",
      "Finding applications for dialyze_erlang-20.0_elixir-1.5.1_deps-dev.plt\n",
      "Finding modules for dialyze_erlang-20.0_elixir-1.5.1_deps-dev.plt\n",
      "Checking 399 modules in dialyze_erlang-20.0_elixir-1.5.1_deps-dev.plt\n",
      "Finding modules for analysis\n",
      "Analysing 2 modules with dialyze_erlang-20.0_elixir-1.5.1_deps-dev.plt\n"
     ]
    }
   ],
   "source": [
    "# Bash\n",
    "cd 20170913_let_dialyzer_work/dial\n",
    "mix dialyze"
   ]
  },
  {
   "cell_type": "markdown",
   "metadata": {
    "slideshow": {
     "slide_type": "subslide"
    }
   },
   "source": [
    "- こちらは通ってしまう。\n",
    "- 他にも色々試してみるとわかるが、ソースコード上に現れている実際の関数呼び出しから、クラッシュする値が予期せず指定されていないかどうか検査、といったことは残念ながらDialyzerにはそこまで期待はできない。\n",
    "    - 基本的には値がまともかまでは関知しない。\n",
    "    - Success type analysisがうまくハマると、何らかの「確実に落ちる」ケースを見つけてくれる**こともある**。\n",
    "    - 定数を返す関数に依存している部分に関しては、余計な分岐があれば警告してくれる。原文のまま、`fetch/0`に適当な実装を与えて試してみるとわかる。\n",
    "- Type contract違反（spec側が間違っているケース含む）については、感覚として引数の違反は発見してくれるケースが多い。\n",
    "  一方、返り値の違反は場合による。\n",
    "     - やっぱりSuccess type analysisがうまくハマると見つけてくれる**こともある**が、いつもそんなにはうまく行かない。"
   ]
  },
  {
   "cell_type": "markdown",
   "metadata": {
    "slideshow": {
     "slide_type": "subslide"
    }
   },
   "source": [
    "- 本当は、ここまでのサンプルコードをいじくり回して、うまくDialyzerがバグを見つけてくれるケースと駄目なケースについて、もう少し絞り込んでみようと思っていた。\n",
    "    - Success type analysisの謎がかなり多いので、知見を増やすにはもうちょっと勉強しなければならない。\n",
    "- が、上ページで書いたとおり一筋縄ではいかない。Dialyzerは**そんなに我々が思うようには働いてくれない**。\n",
    "- にも関わらずなぜ「Let Dialyzer Work」を推すのか？"
   ]
  },
  {
   "cell_type": "markdown",
   "metadata": {
    "slideshow": {
     "slide_type": "slide"
    }
   },
   "source": [
    "## Well-Typed Elixir Code For Well-Being\n",
    "\n",
    "- **我々の幸福のためにほかならない**。\n",
    "- 少なくともTypespecsを書いていくことで、それに違反するコードを書いてしまったとき（あるいはTypespecsを間違えてしまったとき）はそこそこの割合でType contract違反を起こしてもらえるようになっていく。\n",
    "    - これによってバグを発見できる**可能性もある**。ただし過度な期待は禁物。\n",
    "    - コードを修正する際、付随して修正が必要な場所や、意図せず影響を与えてしまった箇所を発見しやすくなる。こちらは比較的恩恵を得られるケースも多いという感覚がある。\n",
    "    - 実装時の精神的な安心・自信につながる。"
   ]
  },
  {
   "cell_type": "markdown",
   "metadata": {
    "slideshow": {
     "slide_type": "subslide"
    }
   },
   "source": [
    "- **Typespecsはドキュメントの役割も果たす**ので、正しく書いていればdialyzeしなくとも意義がある。\n",
    "    - つまり読みやすさの面でもプラスに働くため、一石二鳥。書くだけ得。加点法。\n",
    "- Typespecsは関数に付与していくものなので、Typespecsを意識するということは自然と関数の姿を意識することに直結する。\n",
    "    - 具体的には、「何を受け取って」、「何を返すのか」。\n",
    "    - 自然にguardやpattern-matchによる分岐処理の必要性・必然性に至る。\n",
    "    - いつの間にか「予期せぬ入力・出力」といったものが淘汰されていく。（処理されるべき値はすべて処理されていく）\n",
    "    - 結果、クラッシュしないコードに近づく。"
   ]
  },
  {
   "cell_type": "markdown",
   "metadata": {
    "slideshow": {
     "slide_type": "subslide"
    }
   },
   "source": [
    "- Typespecsを書くということはDialyzerにうまく働いて頂くための一手段でしかないし、書いたからといってあらゆる災厄の種が尽きるわけではないが、\n",
    "    - すぐにでも手を付けられて、\n",
    "    - 目につくところから始められ、\n",
    "    - 損がほとんど無い。\n",
    "   \n",
    "- しかしこう思うかもしれない：\n",
    "    - せっかく型指定をしなくても動的に解決してくれて動いてくれる言語なのに、なぜ型を書いたり、型を意識しなければならないのか？ 面倒じゃないか？ 言語の特長をspoilしているのでは？"
   ]
  },
  {
   "cell_type": "markdown",
   "metadata": {
    "slideshow": {
     "slide_type": "slide"
    }
   },
   "source": [
    "## Long-Term Coding Happiness\n",
    "\n",
    "- 「クラッシュせずに動き、修正が容易で、読みやすいコード」を書きたいし、書き残したい。それが幸福であるように思うなら、それを長期間に渡って維持できることは至福であるはず。\n",
    "- 自分の書いたコードをTypeによって守ることはそれにつながるので、十分に投資する価値がある。\n",
    "    - 多少の面倒は慣れと[croma](https://github.com/skirino/croma)でカバーすれば良い。\n",
    "    - 何かの機会で数ヶ月前のコードに立ち戻ることになったとき、Typespecsが充実していて、久しぶりの作業の後の不安がdialyzeによって解決するのは幸福である。"
   ]
  },
  {
   "cell_type": "markdown",
   "metadata": {
    "slideshow": {
     "slide_type": "subslide"
    }
   },
   "source": [
    "- 更に進むと、dialyzeによって**問題が報告される方が嬉しい**とかいう精神状態になってくる。\n",
    "    - さんざ書いてきたように、Dialyzerの能力は我々の期待と全く一致しないので、Dialyzerが何も言わないということは「絶対にクラッシュする、ということはない」という程度しか保証しないからだ。\n",
    "    - 一旦何か問題を報告してもらって、それを修正した上で問題がなくなったように見えた場合のほうが不思議と安心する。もっとも、これは単なる認知バイアスでしかないのでヤベー精神状態ではある。"
   ]
  },
  {
   "cell_type": "markdown",
   "metadata": {
    "slideshow": {
     "slide_type": "subslide"
    }
   },
   "source": [
    "- 一方、ちゃんとした静的型付け言語は、Dialyzerがごくごく部分的に保証する安全性を、より厳密な形で保証してくれる（[型安全性](https://www.wikiwand.com/en/Type_safety)）シロモノであるため、もっと安心感がある。\n",
    "    - そもそも、安心とか幸福とかいうアレゲな尺度でこのポエムを書いている理由の多くを占めるのが、[Elm](http://elm-lang.org)でコンパイラに導かれたハッピーなコーディングに触れてしまったため。\n",
    "- Elmでそこそこの量のコードを書き、コンパイルできているならば書いたとおり必ず動く世界観に浸ると、Elixirのtype-unsafeな世界はひどく心もとなく感じられてくる。コンパイルは通っても例外がありうるなんて！"
   ]
  },
  {
   "cell_type": "markdown",
   "metadata": {
    "slideshow": {
     "slide_type": "subslide"
    }
   },
   "source": [
    "- するとどうだろう。Elixirコードを書いていると、気づけばテストを書きたくなっている自分がいる！\n",
    "    - Typespecsをかっちり書いても実行してみるまでは本当に安全かどうかわからないとき、人はテストに救いを求める。\n",
    "    - 型安全でない言語では、Testは安心と幸福のために不可欠な存在になる。\n",
    "        - もちろん型安全な言語でもTestで安心を得たい部分は存在するし、型の話抜きにしてもテストで挙動を確認するのは必要である。\n",
    "        - 型安全でない言語では、Testに安心を求めなければならない部分がトレードオフとして必然的に広くなる。\n",
    "    - なにより、実装の改善・修正（リファクタリング）のしやすさ、進めやすさにダイレクトに効いてくる。\n",
    "- つまりTypespecsを書いてみることから出発して、なにか型安全な言語も書いてみたりすると、Testの重要性も再認識でき、長期にわたる幸福なコーディングにつながる"
   ]
  },
  {
   "cell_type": "markdown",
   "metadata": {
    "slideshow": {
     "slide_type": "skip"
    }
   },
   "source": [
    "- これは個人的な印象だが、ErlangVMの恩恵に預かれるElixirでは、Typespecs/DialyzerおよびTestをそこに組み合わせることで、型安全な言語の安心感にある程度近づけると思っている。\n",
    "    - もちろんTestは静的解析ではないので、実行時例外を経由してバグを検出する手段になる。\n",
    "- そもそも、型安全だからといってクラッシュしないわけではない。どんな言語でも精妙なバグはあるし、クラッシュは発生する。Elmでも起こる。\n",
    "    - そうなると、言語ごとにいざクラッシュが起きてしまった場合の機構がどうなっているか、が最終的な安心・幸福のため重要になる。\n",
    "    - ErlangVMの実行モデルはこの点が優秀で、実行時例外は基本的には局所化されている。\n",
    "    - すると、大局的には安全な環境で例外を起こしながらコードへのフィードバックを行い、TypespecsやTestを充実させることで一つ一つクラッシュの種を潰していき、クラッシュしないプログラムに近づく、というループが自然に回せる。\n",
    "        - Erlangにおける\"Let It Crash\"の真の意味はこれだと感じている。"
   ]
  },
  {
   "cell_type": "markdown",
   "metadata": {
    "slideshow": {
     "slide_type": "slide"
    }
   },
   "source": [
    "## For Ease Of Our Mind\n",
    "\n",
    "- 安心し、自信を持ってコードを書けることは幸福だと思う。\n",
    "- Elixirでそういった境地を目指すのであれば、まずはTypespecsを書くところから始めてみてはどうでしょうか。Dialyzerが応えてくれるやも。\n",
    "- そしてElmも書いてみては。"
   ]
  }
 ],
 "metadata": {
  "celltoolbar": "Slideshow",
  "kernelspec": {
   "display_name": "Elixir",
   "language": "Elixir",
   "name": "ielixir"
  },
  "language_info": {
   "codemirror_mode": "erlang",
   "file_extension": "ex",
   "mimetype": "text/x-elixir",
   "name": "elixir",
   "nbconvert_exporter": "",
   "pygments_lexer": "elixir",
   "version": "#Version<1.5.1>"
  }
 },
 "nbformat": 4,
 "nbformat_minor": 2
}
